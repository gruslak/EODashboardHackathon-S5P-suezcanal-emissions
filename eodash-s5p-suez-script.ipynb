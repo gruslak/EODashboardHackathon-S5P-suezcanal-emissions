{
 "cells": [
  {
   "cell_type": "code",
   "execution_count": 1,
   "id": "43e6b5c7-179a-4e07-b168-71d0b112530c",
   "metadata": {},
   "outputs": [
    {
     "data": {
      "text/html": [
       "<script type=\"text/javascript\">\n",
       "        function toggle(id) {\n",
       "            el = document.getElementById(id);\n",
       "            el.style.display = el.style.display === \"none\" ? \"block\" : \"none\";\n",
       "        }\n",
       "    </script>"
      ],
      "text/plain": [
       "<IPython.core.display.HTML object>"
      ]
     },
     "metadata": {},
     "output_type": "display_data"
    },
    {
     "data": {
      "text/html": [
       "This notebook is compatible with this base image version (user-0.24.5)."
      ],
      "text/plain": [
       "<IPython.core.display.HTML object>"
      ]
     },
     "metadata": {},
     "output_type": "display_data"
    },
    {
     "data": {
      "text/markdown": [
       "\n",
       "\n",
       "---------\n",
       "\n",
       "The following environment variables are available:\n",
       "\n",
       "* `SH_CLIENT_SECRET`, `SH_CLIENT_NAME`, `SH_INSTANCE_ID`, `SH_CLIENT_ID`\n"
      ],
      "text/plain": [
       "<IPython.core.display.Markdown object>"
      ]
     },
     "metadata": {},
     "output_type": "display_data"
    }
   ],
   "source": [
    "from edc import check_compatibility\n",
    "check_compatibility(\"user-0.24.5\", dependencies=[\"SH\"])\n",
    "import os\n",
    "from oauthlib.oauth2 import BackendApplicationClient\n",
    "from requests_oauthlib import OAuth2Session\n",
    "# Your client credentials\n",
    "client_id = os.environ['SH_CLIENT_ID']\n",
    "client_secret = os.environ['SH_CLIENT_SECRET']\n",
    "# Create a session\n",
    "client = BackendApplicationClient(client_id=client_id)\n",
    "oauth = OAuth2Session(client=client)\n",
    "# Get token for the session\n",
    "token = oauth.fetch_token(token_url='https://services.sentinel-hub.com/oauth/token',\n",
    "                          client_id=client_id, client_secret=client_secret)\n",
    "# All requests using this session will have an access token automatically added\n",
    "resp = oauth.get(\"https://services.sentinel-hub.com/oauth/tokeninfo\")"
   ]
  },
  {
   "cell_type": "code",
   "execution_count": 2,
   "id": "8e08f402-4283-4227-8ac0-c7b95c145b1f",
   "metadata": {},
   "outputs": [],
   "source": [
    "# xcube_sh imports\n",
    "from xcube_sh.cube import open_cube\n",
    "from xcube_sh.config import CubeConfig\n",
    "from xcube_sh.observers import Observers\n",
    "from xcube_sh.viewer import ViewerServer\n",
    "\n",
    "# xcube imports\n",
    "from xcube.core.maskset import MaskSet\n",
    "from xcube.core.geom import mask_dataset_by_geometry\n",
    "from xcube.core.geom import clip_dataset_by_geometry\n",
    "\n",
    "# Various utilities\n",
    "import json\n",
    "import numpy as np\n",
    "import xarray as xr\n",
    "import shapely.geometry\n",
    "import IPython.display\n",
    "import pandas as pd\n",
    "import matplotlib.pyplot as plt\n",
    "import zarr\n",
    "%matplotlib inline\n",
    "import warnings\n",
    "warnings.filterwarnings('ignore')"
   ]
  },
  {
   "cell_type": "code",
   "execution_count": 3,
   "id": "6535110c-8afa-4a2c-ad70-f9b03a2b5c3a",
   "metadata": {},
   "outputs": [],
   "source": [
    "y1 = 29.5\n",
    "x1 = 31.8\n",
    "y2 = 31.8\n",
    "x2 = 32.8\n",
    "bbox = x1, y1, x2, y2\n",
    "display_area = IPython.display.GeoJSON(shapely.geometry.box(*bbox).__geo_interface__)"
   ]
  },
  {
   "cell_type": "code",
   "execution_count": 4,
   "id": "fcf4e55a-9130-45e4-855b-e7cf44295cb7",
   "metadata": {},
   "outputs": [],
   "source": [
    "def show_average_emission_graph(emission_type, start_date, end_date, time_period):\n",
    "    global bbox\n",
    "    cube_config = CubeConfig(dataset_name='sentinel-5p-l2',\n",
    "                         band_names=[emission_type],\n",
    "                         geometry=bbox,\n",
    "                         spatial_res=0.018,\n",
    "                         time_range=[start_date, end_date],\n",
    "                         time_period=time_period)\n",
    "    cube = open_cube(cube_config)\n",
    "    if emission_type == \"NO2\": \n",
    "        return cube.NO2.mean(dim='time')\n",
    "    elif emission_type == \"SO2\":\n",
    "        return cube.SO2.mean(dim='time')\n",
    "    "
   ]
  },
  {
   "cell_type": "code",
   "execution_count": 5,
   "id": "0542a919-93f0-4a7f-95c4-ce2dc106a97d",
   "metadata": {},
   "outputs": [],
   "source": [
    "def show_average_emission_timetable(emission_type, start_date, end_date, time_period):\n",
    "    global bbox\n",
    "    cube_config = CubeConfig(dataset_name='sentinel-5p-l2',\n",
    "                         band_names=[emission_type],\n",
    "                         geometry=bbox,\n",
    "                         spatial_res=0.018,\n",
    "                         time_range=[start_date, end_date],\n",
    "                         time_period=time_period)\n",
    "    cube = open_cube(cube_config)\n",
    "    if emission_type == \"NO2\": \n",
    "        return cube.NO2.mean(dim=(\"lat\",\"lon\"))\n",
    "    elif emission_type == \"SO2\":\n",
    "        return cube.SO2.mean(dim=(\"lat\",\"lon\"))"
   ]
  },
  {
   "cell_type": "code",
   "execution_count": 6,
   "id": "29c5c128-143e-44ef-843e-3f561f9e45c5",
   "metadata": {},
   "outputs": [],
   "source": [
    "def main():\n",
    "    user_emission_type = input(\"which emission type to be analyzed? (NO2 or SO2)\")\n",
    "    user_start_date = input(\"start date of data collection? (YYYY-MM-DD)\")\n",
    "    user_end_date = input(\"end date of data collection? (YYYY-MM-DD)\")\n",
    "    user_time_period = input(\"time period of data collection? (Days)\")\n",
    "    user_time_period = user_time_period + \"D\"\n",
    "    fig, axes = plt.subplots(ncols=2)\n",
    "    graph = show_average_emission_graph(user_emission_type, user_start_date, user_end_date, user_time_period).plot(vmax=1.5e-4, cmap='jet', ax=axes[0])\n",
    "    timetable = show_average_emission_timetable(user_emission_type, user_start_date, user_end_date, user_time_period).plot(ax=axes[1], ylim=(0,1.5e-4))\n",
    "    plt.tight_layout()\n",
    "    plt.draw()"
   ]
  },
  {
   "cell_type": "code",
   "execution_count": 7,
   "id": "6d04174b-963a-4d22-9332-214a99f07af1",
   "metadata": {},
   "outputs": [
    {
     "name": "stdout",
     "output_type": "stream",
     "text": [
      "area to analyse (suez canal)\n"
     ]
    },
    {
     "data": {
      "application/geo+json": {
       "coordinates": [
        [
         [
          32.8,
          29.5
         ],
         [
          32.8,
          31.8
         ],
         [
          31.8,
          31.8
         ],
         [
          31.8,
          29.5
         ],
         [
          32.8,
          29.5
         ]
        ]
       ],
       "type": "Polygon"
      },
      "text/plain": [
       "<IPython.display.GeoJSON object>"
      ]
     },
     "metadata": {
      "application/geo+json": {
       "expanded": false,
       "root": "root"
      }
     },
     "output_type": "display_data"
    }
   ],
   "source": [
    "print('area to analyse (suez canal)')\n",
    "display_area\n"
   ]
  },
  {
   "cell_type": "code",
   "execution_count": 8,
   "id": "9845e030-33ce-4cc9-95ec-fd5473359f8c",
   "metadata": {},
   "outputs": [
    {
     "name": "stdin",
     "output_type": "stream",
     "text": [
      "which emission type to be analyzed? (NO2 or SO2) NO2\n",
      "start date of data collection? (YYYY-MM-DD) 2018-06-01\n",
      "end date of data collection? (YYYY-MM-DD) 2018-09-01\n",
      "time period of data collection? (Days) 2\n"
     ]
    },
    {
     "data": {
      "image/png": "[encoded data removed]",
      "text/plain": [
       "<Figure size 432x288 with 3 Axes>"
      ]
     },
     "metadata": {
      "needs_background": "light"
     },
     "output_type": "display_data"
    }
   ],
   "source": [
    "main()"
   ]
  },
  {
   "cell_type": "code",
   "execution_count": null,
   "id": "e1eadfca-3369-4e9d-8d2b-2ebcf23ccacf",
   "metadata": {},
   "outputs": [],
   "source": []
  }
 ],
 "metadata": {
  "kernelspec": {
   "display_name": "EDC 0.24.5 (Python3)",
   "language": "python",
   "name": "edc"
  },
  "language_info": {
   "codemirror_mode": {
    "name": "ipython",
    "version": 3
   },
   "file_extension": ".py",
   "mimetype": "text/x-python",
   "name": "python",
   "nbconvert_exporter": "python",
   "pygments_lexer": "ipython3",
   "version": "3.8.10"
  }
 },
 "nbformat": 4,
 "nbformat_minor": 5
}
